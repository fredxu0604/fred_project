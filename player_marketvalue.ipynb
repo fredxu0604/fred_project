{
 "cells": [
  {
   "cell_type": "code",
   "execution_count": 4,
   "metadata": {},
   "outputs": [
    {
     "name": "stdout",
     "output_type": "stream",
     "text": [
      "                   Name Field Position number                age Market Value\n",
      "0          David de Gea     Goalkeeper      1   Nov 7, 1990 (29)      €40.00m\n",
      "1        Dean Henderson     Goalkeeper      -  Mar 12, 1997 (23)      €20.00m\n",
      "2         Sergio Romero     Goalkeeper     22  Feb 22, 1987 (33)       €2.80m\n",
      "3             Lee Grant     Goalkeeper     13  Jan 27, 1983 (37)   €600Th.  m\n",
      "4         Harry Maguire       Defender      5   Mar 5, 1993 (27)      €56.00m\n",
      "5       Victor Lindelöf       Defender      2  Jul 17, 1994 (26)      €28.00m\n",
      "6        Chris Smalling       Defender     12  Nov 22, 1989 (30)      €20.00m\n",
      "7           Eric Bailly       Defender      3  Apr 12, 1994 (26)      €17.50m\n",
      "8           Marcos Rojo       Defender     16  Mar 20, 1990 (30)       €8.00m\n",
      "9         Axel Tuanzebe       Defender     38  Nov 14, 1997 (22)       €8.00m\n",
      "10           Phil Jones       Defender      4  Feb 21, 1992 (28)       €7.00m\n",
      "11            Luke Shaw       Defender     23  Jul 12, 1995 (25)      €22.00m\n",
      "12     Brandon Williams       Defender     33   Sep 3, 2000 (20)      €11.00m\n",
      "13    Aaron Wan-Bissaka       Defender     29  Nov 26, 1997 (22)      €40.00m\n",
      "14          Diogo Dalot       Defender     20  Mar 18, 1999 (21)      €12.00m\n",
      "15  Timothy Fosu-Mensah       Defender     24   Jan 2, 1998 (22)       €6.30m\n",
      "16        Nemanja Matic     Midfielder     31   Aug 1, 1988 (32)      €16.00m\n",
      "17         James Garner     Midfielder     37  Mar 13, 2001 (19)       €2.70m\n",
      "18           Paul Pogba     Midfielder      6  Mar 15, 1993 (27)      €80.00m\n",
      "19    Donny van de Beek     Midfielder     34  Apr 18, 1997 (23)      €44.00m\n",
      "20      Scott McTominay     Midfielder     39   Dec 8, 1996 (23)      €22.50m\n",
      "21                 Fred     Midfielder     17   Mar 5, 1993 (27)      €17.50m\n",
      "22      Bruno Fernandes     Midfielder     18   Sep 8, 1994 (26)      €70.00m\n",
      "23        Jesse Lingard     Midfielder     14  Dec 15, 1992 (27)      €17.50m\n",
      "24      Andreas Pereira     Midfielder     15   Jan 1, 1996 (24)      €16.00m\n",
      "25            Juan Mata     Midfielder      8  Apr 28, 1988 (32)       €9.50m\n",
      "26      Marcus Rashford        Forward     10  Oct 31, 1997 (22)      €80.00m\n",
      "27         Daniel James        Forward     21  Nov 10, 1997 (22)      €19.00m\n",
      "28      Anthony Martial        Forward      9   Dec 5, 1995 (24)      €58.00m\n",
      "29      Mason Greenwood        Forward     11   Oct 1, 2001 (18)      €45.00m\n",
      "30         Odion Ighalo        Forward     25  Jun 16, 1989 (31)       €5.20m\n"
     ]
    }
   ],
   "source": [
    "import bs4\n",
    "import requests\n",
    "import pandas\n",
    "from bs4 import BeautifulSoup\n",
    "\n",
    "url = 'https://www.transfermarkt.com/manchester-united/startseite/verein/985#'\n",
    "\n",
    "## opening the html\n",
    "\n",
    "headers = {\"User-Agent\":\"Mozilla/5.0\"}\n",
    "soup = BeautifulSoup(requests.get(url, headers=headers).content, 'html.parser')\n",
    "\n",
    "\n",
    "\n",
    "players = soup.findAll(\"tr\",{\"class\":[\"odd\",\"even\"]})\n",
    "\n",
    "all_data = []\n",
    "for player in players:\n",
    "\n",
    "   category = player.td['title']\n",
    "   name1 = player.findAll(\"td\",{\"class\":\"hide\"})\n",
    "   name = name1[0].text\n",
    "   age1 = player.findAll(\"td\",{\"class\":\"zentriert\"})\n",
    "   age = age1[1].text\n",
    "   price1 = player.findAll(\"td\",{\"class\":\"rechts hauptlink\"})\n",
    "   price = price1[0].text.split('m')[0]+'m'\n",
    "   num = player.td.div.text\n",
    "   \n",
    "   all_data.append({\n",
    "            'Name': name,\n",
    "            'Field Position': category,\n",
    "            'number': num,\n",
    "            'age': age,\n",
    "            'Market Value': price,\n",
    "        })\n",
    "   \n",
    "\n",
    "df = pandas.DataFrame(all_data)\n",
    "print(df)\n",
    "df.to_csv('data.csv')\n"
   ]
  },
  {
   "cell_type": "code",
   "execution_count": null,
   "metadata": {},
   "outputs": [],
   "source": []
  },
  {
   "cell_type": "code",
   "execution_count": null,
   "metadata": {},
   "outputs": [],
   "source": []
  },
  {
   "cell_type": "code",
   "execution_count": null,
   "metadata": {},
   "outputs": [],
   "source": []
  }
 ],
 "metadata": {
  "kernelspec": {
   "display_name": "Python 3",
   "language": "python",
   "name": "python3"
  },
  "language_info": {
   "codemirror_mode": {
    "name": "ipython",
    "version": 3
   },
   "file_extension": ".py",
   "mimetype": "text/x-python",
   "name": "python",
   "nbconvert_exporter": "python",
   "pygments_lexer": "ipython3",
   "version": "3.8.3"
  }
 },
 "nbformat": 4,
 "nbformat_minor": 4
}
