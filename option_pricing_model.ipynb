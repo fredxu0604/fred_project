{
 "cells": [
  {
   "cell_type": "code",
   "execution_count": 112,
   "metadata": {},
   "outputs": [
    {
     "name": "stdout",
     "output_type": "stream",
     "text": [
      "0.010958904109589041\n",
      "4\n",
      "2.5606\n",
      "10.851509045279904\n"
     ]
    }
   ],
   "source": [
    "import numpy\n",
    "from scipy.stats import norm\n",
    "import bs4\n",
    "import requests\n",
    "import pandas\n",
    "import datetime\n",
    "from bs4 import BeautifulSoup\n",
    "from datetime import date\n",
    "\n",
    "today = date.today()\n",
    "\n",
    "\n",
    "# We need to scrap real-world data first\n",
    "\n",
    "# define the URL\n",
    "url = 'https://finance.yahoo.com/quote/FB/options?p=FB'\n",
    "\n",
    "# open the URL\n",
    "headers = {\"User-Agent\":\"Mozilla/5.0\"}\n",
    "soup = BeautifulSoup(requests.get(url, headers=headers).content, 'html.parser')\n",
    "\n",
    "# find the latest option contract\n",
    "option = soup.find((\"tbody\",{\"data-reactid\":\"89\"}))\n",
    "\n",
    "num = option.tr.td.a.text # contract number\n",
    "\n",
    "type = num[8] # determine whether it is a call or put\n",
    "K_txt = option.tr.td.next_sibling.next_sibling.a.text # determine the strike price of the stock\n",
    "K = float(K_txt) # determine the strike price of the stock\n",
    "\n",
    "exp_date = datetime.date(int(\"20\"+num[2:4]),int(num[4:6]),int(num[6:8]))\n",
    "days = (exp_date-today).days\n",
    "\n",
    "\n",
    "\n",
    "S = float(option.tr.td.next_sibling.next_sibling.next_sibling.text)# current price\n",
    "r = 0.01\n",
    "T = days/365\n",
    "print(T)\n",
    "print(days)\n",
    "\n",
    "sigma_str = option.tr.td.next_sibling.next_sibling.next_sibling.next_sibling.next_sibling.next_sibling.next_sibling.next_sibling.next_sibling.next_sibling.text\n",
    "\n",
    "sigma = float(sigma_str[:-1])/100\n",
    "print(sigma)\n",
    "\n",
    "def blackScholes(r,S,K,T,sigma,type = \"\"):\n",
    "    d1 = (numpy.log(S/K) + (r+sigma**2/2)*T)/(sigma*numpy.sqrt(T))\n",
    "    d2 = d1 - sigma*numpy.sqrt(T)\n",
    "    try:\n",
    "        if type ==\"C\":\n",
    "            price = S*norm.cdf(d1,0,1) - K*numpy.exp(-r*T)*norm.cdf(d2,0,1)\n",
    "        elif type ==\"P\":\n",
    "            price = K*numpy.exp(-r*T)*norm.cdf(-d2,0,1) - S*norm.cdf(-d1,0,1)\n",
    "        return price\n",
    "    except:\n",
    "        print('Please double check it is a call or a put')\n",
    "    \n",
    "print(blackScholes(r,S,K,T,sigma,type))\n",
    "\n"
   ]
  },
  {
   "cell_type": "code",
   "execution_count": null,
   "metadata": {},
   "outputs": [],
   "source": []
  },
  {
   "cell_type": "code",
   "execution_count": null,
   "metadata": {},
   "outputs": [],
   "source": []
  },
  {
   "cell_type": "code",
   "execution_count": null,
   "metadata": {},
   "outputs": [],
   "source": []
  },
  {
   "cell_type": "code",
   "execution_count": null,
   "metadata": {},
   "outputs": [],
   "source": []
  }
 ],
 "metadata": {
  "kernelspec": {
   "display_name": "Python 3",
   "language": "python",
   "name": "python3"
  },
  "language_info": {
   "codemirror_mode": {
    "name": "ipython",
    "version": 3
   },
   "file_extension": ".py",
   "mimetype": "text/x-python",
   "name": "python",
   "nbconvert_exporter": "python",
   "pygments_lexer": "ipython3",
   "version": "3.8.3"
  }
 },
 "nbformat": 4,
 "nbformat_minor": 4
}
